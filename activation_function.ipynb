{
  "nbformat": 4,
  "nbformat_minor": 0,
  "metadata": {
    "colab": {
      "provenance": [],
      "authorship_tag": "ABX9TyODDP91FyadYvehRK4FPyOv",
      "include_colab_link": true
    },
    "kernelspec": {
      "name": "python3",
      "display_name": "Python 3"
    },
    "language_info": {
      "name": "python"
    }
  },
  "cells": [
    {
      "cell_type": "markdown",
      "metadata": {
        "id": "view-in-github",
        "colab_type": "text"
      },
      "source": [
        "<a href=\"https://colab.research.google.com/github/itcxx/Notebook/blob/main/activation_function.ipynb\" target=\"_parent\"><img src=\"https://colab.research.google.com/assets/colab-badge.svg\" alt=\"Open In Colab\"/></a>"
      ]
    },
    {
      "cell_type": "code",
      "source": [
        "import math\n"
      ],
      "metadata": {
        "id": "xpMI9rSFHlnC"
      },
      "execution_count": 2,
      "outputs": []
    },
    {
      "cell_type": "markdown",
      "source": [
        "#### softmax激活函数\n",
        "把输出映射区间在（0，1）之间，并且做了归一化，所有的元素的和累加起来等于一\n",
        "1. 效果是让最大的值更大，最小的值更小，增加了区间对比度，学习效率更高\n",
        "2. softmax是连续可导的，消除拐点"
      ],
      "metadata": {
        "id": "frIAoizAdum9"
      }
    },
    {
      "cell_type": "code",
      "source": [
        "\n",
        "V=[9,6,3,1]\n",
        "\n",
        "v1=math.exp(9) #e**9\n",
        "v2=math.exp(6)\n",
        "v3=math.exp(3)\n",
        "v4=math.exp(1)\n",
        "\n",
        "v_sum=v1+v2+v3+v4\n",
        "\n",
        "print(v1/v_sum)\n",
        "print(v2/v_sum)\n",
        "print(v3/v_sum)\n",
        "print(v4/v_sum)\n",
        "\n"
      ],
      "metadata": {
        "colab": {
          "base_uri": "https://localhost:8080/"
        },
        "id": "GlOjWo-Gc7n9",
        "outputId": "be48b9f4-8548-4973-9a4a-9aef0ea185e4"
      },
      "execution_count": 3,
      "outputs": [
        {
          "output_type": "stream",
          "name": "stdout",
          "text": [
            "0.95002734272383\n",
            "0.047299076263531435\n",
            "0.00235488234366925\n",
            "0.0003186986689693763\n"
          ]
        }
      ]
    },
    {
      "cell_type": "code",
      "source": [],
      "metadata": {
        "id": "52E8DxrEdgT1"
      },
      "execution_count": null,
      "outputs": []
    }
  ]
}