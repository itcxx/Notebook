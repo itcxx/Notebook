{
  "nbformat": 4,
  "nbformat_minor": 0,
  "metadata": {
    "colab": {
      "provenance": [],
      "toc_visible": true,
      "authorship_tag": "ABX9TyMyyXA8E2mD18iQvEbrDoks",
      "include_colab_link": true
    },
    "kernelspec": {
      "name": "python3",
      "display_name": "Python 3"
    },
    "language_info": {
      "name": "python"
    }
  },
  "cells": [
    {
      "cell_type": "markdown",
      "metadata": {
        "id": "view-in-github",
        "colab_type": "text"
      },
      "source": [
        "<a href=\"https://colab.research.google.com/github/itcxx/Notebook/blob/main/oo_2.ipynb\" target=\"_parent\"><img src=\"https://colab.research.google.com/assets/colab-badge.svg\" alt=\"Open In Colab\"/></a>"
      ]
    },
    {
      "cell_type": "markdown",
      "source": [
        "> 编码原则 《二》 "
      ],
      "metadata": {
        "id": "TmdIBxX9Zn-V"
      }
    },
    {
      "cell_type": "markdown",
      "source": [
        "    public class GeneratePrimes {\n",
        "\n",
        "    // Generates prime numbers up to a user specified number: max\n",
        "    // The algorithm used is the Sieve of Eratosthenes.\n",
        "    // 生成不超过用户指定数字的素数：max\n",
        "     // 使用的算法是埃拉托色尼筛法。\n",
        "\n",
        "    public int[] primes(int max) {\n",
        "    //init:列出从2到要查找的最大数max之间的所有质数\n",
        "    // step1: 令P为最小素数2\n",
        "    // step2: 删除除自身以外的所有P的倍数的数\n",
        "    // step3: 将P设为最小未被擦除的数，重复步骤2\n",
        "    // 当p^2大于要找的而最大数时停止（一个数x的因数不超过sqrt(x)\n",
        "    // step4: 整理剩余的数字，创建一个素数列表    \n",
        "\n",
        "      if(max < 2) return null;\n",
        "        Boolean[] isPrime = new Boolean[max];\n",
        "\n",
        "      for(int i = 0; i < max; i++) {\n",
        "        isPrime[i] = true;\n",
        "        }\n",
        "\n",
        "      isPrime[0] = false;\n",
        "\n",
        "      for(int i = 1; i*i <= max; i++) {\n",
        "        if(isPrime[i]) {\n",
        "          int prime = i + 1;\n",
        "          for(int j = 2*prime; j <= max; j += prime) {\n",
        "            isPrime[j-1] = false;\n",
        "          }\n",
        "       }\n",
        "      }\n",
        "\n",
        "     int count = 0;\n",
        "\n",
        "      for(Boolean x: isPrime) {\n",
        "      if(x) count++;\n",
        "     }\n",
        "\n",
        "      int[] primes = new int[count];\n",
        "\n",
        "      int index = 0;\n",
        "\n",
        "      for(int i = 0; i < max; i++) {\n",
        "\n",
        "          if(isPrime[i]) primes[index++] = i + 1;\n",
        "\n",
        "      }\n",
        "        return primes;\n",
        "      }\n",
        "    }"
      ],
      "metadata": {
        "id": "_ODY_t1sPnJU"
      }
    }
  ]
}