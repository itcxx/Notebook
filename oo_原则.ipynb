{
  "nbformat": 4,
  "nbformat_minor": 0,
  "metadata": {
    "colab": {
      "provenance": [],
      "authorship_tag": "ABX9TyP+soLu0Nr31JtVO2RMAc/V",
      "include_colab_link": true
    },
    "kernelspec": {
      "name": "python3",
      "display_name": "Python 3"
    },
    "language_info": {
      "name": "python"
    }
  },
  "cells": [
    {
      "cell_type": "markdown",
      "metadata": {
        "id": "view-in-github",
        "colab_type": "text"
      },
      "source": [
        "<a href=\"https://colab.research.google.com/github/itcxx/Notebook/blob/main/oo_%E5%8E%9F%E5%88%99.ipynb\" target=\"_parent\"><img src=\"https://colab.research.google.com/assets/colab-badge.svg\" alt=\"Open In Colab\"/></a>"
      ]
    },
    {
      "cell_type": "markdown",
      "source": [
        "\n",
        "> 面向对象的三大特征\n",
        "\n",
        "[参考](https://juejin.cn/post/7123799161505316894)\n",
        "\n",
        "  1. 封装\n",
        "\n",
        "  封装就是把抽象出的数据（属性）和对数据的操作（方法）封装在一起，数据被保护在内部，程序的其他部分只有通过被授权的操作（方法）才能对数据进行操作。\n",
        "\n",
        "  2. 继承 \n",
        "\n",
        "  继承可以提高代码的复用性，让编程更加靠近人类思维。当多个类存在相同的属性（变量）和方法时，可以从这些类中抽象出父类，在父类中定义相同的属性和方法，所有的子类不需要重新定义这些属性和方法，只需要通过extends关键字来声明继承父类即可\n",
        "\n",
        "  3. 多态\n",
        "\n",
        "  一个方法或者对象具有多种形态（多态是建立在封装和继承的基础之上的）；父类的引用指向子类的对象；允许不同类的对象对同一消息作出响应。不同对象调用相同方法即使参数也相同，最终表现行为是不一样的。\n",
        "\n",
        "\n",
        "\n",
        "\n",
        "\n",
        "\n",
        "> 设计模式的五大原则：\n",
        "\n",
        "\n",
        "[参考1](https://www.cnblogs.com/CodeGuy/archive/2012/03/26/2418803.html)  [参考2](https://www.runoob.com/design-pattern/design-pattern-intro.html)\n",
        "\n",
        "* SRP （Single Responsibility Principle 单一职责原则）\n",
        "\n",
        "单一职责很容易理解，也很容易实现。所谓单一职责，就是一个设计元素只做一件事。什么是“只做一件事”？简单说就是少管闲事。现实中就是如此，如果要你专心做一件事情，任何人都有信心可以做得很出色。 \n",
        "\n",
        "* OCP (Open Close Principle 开闭原则)\n",
        "\n",
        "开闭原则的意思是：对扩展开放，对修改关闭。在程序需要进行拓展的时候，不能去修改原有的代码，实现一个热插拔的效果。简言之，是为了使程序的扩展性好，易于维护和升级。想要达到这样的效果，我们需要使用接口和抽象类，后面的具体设计中我们会提到这点\n",
        "\n",
        "* LSP(Liskov Substitution Principle 里氏代换原则)\n",
        "\n",
        "“Inheritance should ensure that any property proved about supertype objects also holds for subtype objects.”——“继承必须确保超类所拥有的性质在子类中仍然成立。\n",
        "\n",
        "\n",
        "里氏代换原则是面向对象设计的基本原则之一,里氏代换原则中说，任何基类可以出现的地方，子类一定可以出现.LSP 是继承复用的基石，只有当派生类可以替换掉基类，且软件单位的功能不受到影响时，基类才能真正被复用，而派生类也能够在基类的基础上增加新的行为。里氏代换原则是对开闭原则的补充。实现开闭原则的关键步骤就是抽象化，而基类与子类的继承关系就是抽象化的具体实现，所以里氏代换原则是对实现抽象化的具体步骤的规范。\n",
        "\n",
        "* DIP （Dependence Inversion Principle 依赖倒转原则）\n",
        "\n",
        "\n",
        "这个原则是开闭原则的基础，具体内容：针对接口编程，依赖于抽象而不依赖于具体。\n",
        "\n",
        "简单的说，依赖倒置原则要求客户端依赖于抽象耦合。原则表述： \n",
        "抽象不应当依赖于细节；细节应当依赖于抽象； \n",
        "要针对接口编程，不针对实现编程。\n",
        "\n",
        "* ISP （Interface Segregation Principle 接口隔离原则）\n",
        "\n",
        "这个原则的意思是：使用多个隔离的接口，比使用单个接口要好。它还有另外一个意思是：降低类之间的耦合度。由此可见，其实设计模式就是从大型软件架构出发、便于升级和维护的软件设计思想，它强调降低依赖，降低耦合。\n",
        "\n",
        "\n",
        "\n"
      ],
      "metadata": {
        "id": "F_r6cL_3MSUu"
      }
    },
    {
      "cell_type": "code",
      "execution_count": null,
      "metadata": {
        "id": "KyOigLa_ML1O"
      },
      "outputs": [],
      "source": []
    }
  ]
}