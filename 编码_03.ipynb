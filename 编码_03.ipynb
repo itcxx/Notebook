{
  "nbformat": 4,
  "nbformat_minor": 0,
  "metadata": {
    "colab": {
      "provenance": [],
      "authorship_tag": "ABX9TyOQOTpBV+eYanknBXEdCgwR",
      "include_colab_link": true
    },
    "kernelspec": {
      "name": "python3",
      "display_name": "Python 3"
    },
    "language_info": {
      "name": "python"
    }
  },
  "cells": [
    {
      "cell_type": "markdown",
      "metadata": {
        "id": "view-in-github",
        "colab_type": "text"
      },
      "source": [
        "<a href=\"https://colab.research.google.com/github/itcxx/Notebook/blob/main/%E7%BC%96%E7%A0%81_03.ipynb\" target=\"_parent\"><img src=\"https://colab.research.google.com/assets/colab-badge.svg\" alt=\"Open In Colab\"/></a>"
      ]
    },
    {
      "cell_type": "markdown",
      "source": [
        "> 编码原理 《三》\n",
        "\n",
        "* A process or method through the application of which one attempts to understand through deductive reasoning how a device, process , system , or piece of software accomplishes a task with very little (if any) insight into exactly how it does so\n",
        "* 一种过程或方法，通过应用它，人们试图通过演绎推理来理解设备、过程、系统或软件片段如何完成一项任务，而很少（如果有的话）深入了解它是如何做到的\n",
        "* The process of analyzing a subject system to 1 identify the system's components and their interrelationshaips and to 2 create representations of the system in another form or at a higher level of abstraction. ( where the subject system is hte end-product of software development)\n",
        "\n",
        "* 分析主题系统以 1 识别系统的组件及其相互关系并 2 以另一种形式或更高抽象级别创建系统表示的过程。 （主题系统是软件开发的最终产品）"
      ],
      "metadata": {
        "id": "poJwRJ7EeW8a"
      }
    }
  ]
}