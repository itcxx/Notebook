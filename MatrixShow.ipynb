{
  "nbformat": 4,
  "nbformat_minor": 0,
  "metadata": {
    "colab": {
      "provenance": [],
      "authorship_tag": "ABX9TyOPgxLA0xYnVJzHFAb6lBX9",
      "include_colab_link": true
    },
    "kernelspec": {
      "name": "python3",
      "display_name": "Python 3"
    },
    "language_info": {
      "name": "python"
    }
  },
  "cells": [
    {
      "cell_type": "markdown",
      "metadata": {
        "id": "view-in-github",
        "colab_type": "text"
      },
      "source": [
        "<a href=\"https://colab.research.google.com/github/itcxx/Notebook/blob/main/MatrixShow.ipynb\" target=\"_parent\"><img src=\"https://colab.research.google.com/assets/colab-badge.svg\" alt=\"Open In Colab\"/></a>"
      ]
    },
    {
      "cell_type": "code",
      "source": [
        "from sklearn.metrics import confusion_matrix\n",
        "import matplotlib.pyplot as plt\n",
        "\n",
        "y_pred=['2','2','2','3','4']\n",
        "y_true=['0','1','2','3','4']\n",
        "\n",
        "conMatrix=confusion_matrix(y_true,y_pred,labels=['0','1','2','3','4'])\n",
        "print(conMatrix)\n",
        "plt.matshow(conMatrix,cmap=plt.cm.Greens)  #设置颜色,并显示矩阵\n",
        "\n",
        "for i in range(len(conMatrix)):\n",
        "    for j in range(len(conMatrix)):  #添加数量的注释\n",
        "         plt.annotate(conMatrix[j, i], xy=(i, j), horizontalalignment='center', verticalalignment='center')\n",
        "\n",
        "\n",
        "plt.ylabel('True label')\n",
        "plt.xlabel('Predicted label')\n",
        "plt.show()"
      ],
      "metadata": {
        "id": "zbqw4CsLafJq",
        "colab": {
          "base_uri": "https://localhost:8080/",
          "height": 372
        },
        "outputId": "0c73c688-b9b2-4444-9080-b4fbcc0a0764"
      },
      "execution_count": null,
      "outputs": [
        {
          "output_type": "stream",
          "name": "stdout",
          "text": [
            "[[0 0 1 0 0]\n",
            " [0 0 1 0 0]\n",
            " [0 0 1 0 0]\n",
            " [0 0 0 1 0]\n",
            " [0 0 0 0 1]]\n"
          ]
        },
        {
          "output_type": "display_data",
          "data": {
            "text/plain": [
              "<Figure size 288x288 with 1 Axes>"
            ],
            "image/png": "[encoded data removed]"
          },
          "metadata": {
            "needs_background": "light"
          }
        }
      ]
    },
    {
      "cell_type": "code",
      "source": [
        "import numpy as np\n",
        "print(np.arange(16))"
      ],
      "metadata": {
        "colab": {
          "base_uri": "https://localhost:8080/"
        },
        "id": "4aACnZEKVPZC",
        "outputId": "49555f21-4eb6-4f73-8231-8307584a1816"
      },
      "execution_count": null,
      "outputs": [
        {
          "output_type": "stream",
          "name": "stdout",
          "text": [
            "[ 0  1  2  3  4  5  6  7  8  9 10 11 12 13 14 15]\n"
          ]
        }
      ]
    },
    {
      "cell_type": "code",
      "source": [
        "import torch\n",
        "\n",
        "a=torch.rand(10)\n",
        "a=[a]\n",
        "print(a)\n",
        "print(a[0])\n",
        "b=[str(name.tolist()) for name in a]\n",
        "print(b)"
      ],
      "metadata": {
        "id": "YGvPkKVcVVXT",
        "colab": {
          "base_uri": "https://localhost:8080/"
        },
        "outputId": "0ec7e520-d012-49d9-b143-d15ea390b27d"
      },
      "execution_count": null,
      "outputs": [
        {
          "output_type": "stream",
          "name": "stdout",
          "text": [
            "[tensor([0.3198, 0.5589, 0.6871, 0.2447, 0.8682, 0.3721, 0.5754, 0.1600, 0.7934,\n",
            "        0.1226])]\n",
            "tensor([0.3198, 0.5589, 0.6871, 0.2447, 0.8682, 0.3721, 0.5754, 0.1600, 0.7934,\n",
            "        0.1226])\n",
            "['[0.31982892751693726, 0.5588686466217041, 0.6871234774589539, 0.244736909866333, 0.8681864142417908, 0.3721398115158081, 0.5753713250160217, 0.1600499153137207, 0.7934399843215942, 0.12258791923522949]']\n"
          ]
        }
      ]
    },
    {
      "cell_type": "code",
      "source": [],
      "metadata": {
        "id": "i5kvA1nB5Kwi"
      },
      "execution_count": null,
      "outputs": []
    },
    {
      "cell_type": "markdown",
      "source": [
        "$$\n",
        "td\\error=MSE(Q(s,a), \n",
        "r+\\gamma Q{target}(s',a'))\n",
        "$$"
      ],
      "metadata": {
        "id": "WTxaHFrP02Zk"
      }
    }
  ]
}