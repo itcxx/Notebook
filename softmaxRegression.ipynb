{
  "nbformat": 4,
  "nbformat_minor": 0,
  "metadata": {
    "colab": {
      "provenance": [],
      "authorship_tag": "ABX9TyPQe+JRK5RlfgciMoTKoZJ5",
      "include_colab_link": true
    },
    "kernelspec": {
      "name": "python3",
      "display_name": "Python 3"
    },
    "language_info": {
      "name": "python"
    }
  },
  "cells": [
    {
      "cell_type": "markdown",
      "metadata": {
        "id": "view-in-github",
        "colab_type": "text"
      },
      "source": [
        "<a href=\"https://colab.research.google.com/github/itcxx/Notebook/blob/main/softmaxRegression.ipynb\" target=\"_parent\"><img src=\"https://colab.research.google.com/assets/colab-badge.svg\" alt=\"Open In Colab\"/></a>"
      ]
    },
    {
      "cell_type": "markdown",
      "source": [
        "### softmax回归实现\n",
        "参考[沐神课程](https://zh-v2.d2l.ai/chapter_linear-networks/softmax-regression.html)\n",
        "\n",
        "> **softmax用于分类任务中的每种类型的概率情况**\n",
        "\n",
        "分类标签采用 $ one-hot encoding$的方式。独热编码是一个向量，它的分量和类别一样多。类别对应的分量设置为1，其他所有分量设置为0。\n",
        "\n",
        "举例：如果有三种类型，'cat'=(1,0,0),'dog'=(0,1,0),'chicken'=(0,0,1):\n",
        "\n",
        "$$\n",
        "y 𝛜 {(1,0,0),(0,1,0),(0,0,1)}.\n",
        "$$\n",
        "\n",
        "> **softmax函数**\n",
        "\n",
        "社会科学家邓肯·卢斯于1959年在选择模型（choice model）的理论基础上 发明的softmax函数。\n",
        "\n",
        "* softmax函数能够将未规范化的预测变换为非负数并且`总和为1`，同时`让模型保持可导`的性质。\n",
        "\n"
      ],
      "metadata": {
        "id": "zXbSn0oelmNx"
      }
    },
    {
      "cell_type": "code",
      "execution_count": null,
      "metadata": {
        "id": "12mK35kdldv3"
      },
      "outputs": [],
      "source": []
    },
    {
      "cell_type": "markdown",
      "source": [],
      "metadata": {
        "id": "nUsxURqTlkRF"
      }
    }
  ]
}