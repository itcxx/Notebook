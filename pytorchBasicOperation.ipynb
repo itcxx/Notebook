{
  "nbformat": 4,
  "nbformat_minor": 0,
  "metadata": {
    "colab": {
      "provenance": [],
      "authorship_tag": "ABX9TyMhjhDKMrbJnbRuZCnGry5W",
      "include_colab_link": true
    },
    "kernelspec": {
      "name": "python3",
      "display_name": "Python 3"
    },
    "language_info": {
      "name": "python"
    }
  },
  "cells": [
    {
      "cell_type": "markdown",
      "metadata": {
        "id": "view-in-github",
        "colab_type": "text"
      },
      "source": [
        "<a href=\"https://colab.research.google.com/github/itcxx/Notebook/blob/main/pytorchBasicOperation.ipynb\" target=\"_parent\"><img src=\"https://colab.research.google.com/assets/colab-badge.svg\" alt=\"Open In Colab\"/></a>"
      ]
    },
    {
      "cell_type": "markdown",
      "source": [
        "### Pytorch基础操作\n",
        "\n"
      ],
      "metadata": {
        "id": "EZEZh96nv990"
      }
    },
    {
      "cell_type": "markdown",
      "source": [
        "1. Tensor创建"
      ],
      "metadata": {
        "id": "c4GAOrmvvu2Z"
      }
    },
    {
      "cell_type": "markdown",
      "source": [
        "* 标量"
      ],
      "metadata": {
        "id": "aCF1SWP9wpJm"
      }
    },
    {
      "cell_type": "code",
      "source": [
        "import torch"
      ],
      "metadata": {
        "id": "_9i93tYcwtBB"
      },
      "execution_count": 44,
      "outputs": []
    },
    {
      "cell_type": "code",
      "source": [
        "torch.tensor(2)"
      ],
      "metadata": {
        "colab": {
          "base_uri": "https://localhost:8080/"
        },
        "id": "uIoU-feUwyI-",
        "outputId": "9ccca5d5-7be4-4d63-cbf0-d6c24b2e676b"
      },
      "execution_count": 45,
      "outputs": [
        {
          "output_type": "execute_result",
          "data": {
            "text/plain": [
              "tensor(2)"
            ]
          },
          "metadata": {},
          "execution_count": 45
        }
      ]
    },
    {
      "cell_type": "code",
      "source": [
        "torch.tensor([1.1])"
      ],
      "metadata": {
        "colab": {
          "base_uri": "https://localhost:8080/"
        },
        "id": "8Gtw5IYNw0zH",
        "outputId": "fed9b90a-bbe9-4f0c-d8a2-9a7830171ef2"
      },
      "execution_count": 46,
      "outputs": [
        {
          "output_type": "execute_result",
          "data": {
            "text/plain": [
              "tensor([1.1000])"
            ]
          },
          "metadata": {},
          "execution_count": 46
        }
      ]
    },
    {
      "cell_type": "code",
      "source": [
        "\n",
        "torch.FloatTensor(2)  #输入的是维度"
      ],
      "metadata": {
        "colab": {
          "base_uri": "https://localhost:8080/"
        },
        "id": "09-OP_xuxCVq",
        "outputId": "8cf986e6-20d4-4059-fc85-e6d9a3c517f2"
      },
      "execution_count": 47,
      "outputs": [
        {
          "output_type": "execute_result",
          "data": {
            "text/plain": [
              "tensor([2.8247e-36, 0.0000e+00], dtype=torch.float32)"
            ]
          },
          "metadata": {},
          "execution_count": 47
        }
      ]
    },
    {
      "cell_type": "code",
      "source": [
        "torch.FloatTensor(2,2)"
      ],
      "metadata": {
        "colab": {
          "base_uri": "https://localhost:8080/"
        },
        "id": "Nvq9825lxO25",
        "outputId": "ab07c4af-cef4-4634-bca6-b006c77c1f4d"
      },
      "execution_count": 48,
      "outputs": [
        {
          "output_type": "execute_result",
          "data": {
            "text/plain": [
              "tensor([[2.8248e-36, 0.0000e+00],\n",
              "        [3.9236e-44, 0.0000e+00]], dtype=torch.float32)"
            ]
          },
          "metadata": {},
          "execution_count": 48
        }
      ]
    },
    {
      "cell_type": "code",
      "source": [
        "#shape 是属性， size()是函数\n",
        "a=torch.FloatTensor(3,4)\n",
        "print(\"a.shape: \",a.shape)\n",
        "print(\"a.shape[0]: \",a.shape[0])  #返回dim=0的大小，即0维度0的大小\n",
        "\n",
        "print(\"a.size(): \",a.size())\n",
        "print(\"a.size(0): \",a.size(0))"
      ],
      "metadata": {
        "colab": {
          "base_uri": "https://localhost:8080/"
        },
        "id": "G6pnogubxl2H",
        "outputId": "7d0c803e-31f7-48c4-9490-f7d959eb2fb7"
      },
      "execution_count": 49,
      "outputs": [
        {
          "output_type": "stream",
          "name": "stdout",
          "text": [
            "a.shape:  torch.Size([3, 4])\n",
            "a.shape[0]:  3\n",
            "a.size():  torch.Size([3, 4])\n",
            "a.size(0):  3\n"
          ]
        }
      ]
    },
    {
      "cell_type": "code",
      "source": [
        "# numel()返回tensor的大小\n",
        "# dim() 返回维度的大小\n",
        "\n",
        "a=torch.rand(2,2,3)\n",
        "print(a)\n",
        "print(\"a.numel(): \",a.numel())\n",
        "print(\"a.dim(): \",a.dim())"
      ],
      "metadata": {
        "colab": {
          "base_uri": "https://localhost:8080/"
        },
        "id": "m9EeeEC2xyTC",
        "outputId": "5d05b145-558b-4672-c73f-bb30fd556b14"
      },
      "execution_count": 50,
      "outputs": [
        {
          "output_type": "stream",
          "name": "stdout",
          "text": [
            "tensor([[[0.1097, 0.4582, 0.0096],\n",
            "         [0.1070, 0.3879, 0.0994]],\n",
            "\n",
            "        [[0.7694, 0.3392, 0.6389],\n",
            "         [0.5136, 0.3745, 0.0887]]])\n",
            "a.numel():  12\n",
            "a.dim():  3\n"
          ]
        }
      ]
    },
    {
      "cell_type": "code",
      "source": [
        "#创建全为1的数组\n",
        "import numpy as np\n",
        "torch.ones(2,2,3)"
      ],
      "metadata": {
        "colab": {
          "base_uri": "https://localhost:8080/"
        },
        "id": "HIiijdxezAAI",
        "outputId": "43344cdc-0850-47da-f88e-e8e2e791ad1d"
      },
      "execution_count": 51,
      "outputs": [
        {
          "output_type": "execute_result",
          "data": {
            "text/plain": [
              "tensor([[[1., 1., 1.],\n",
              "         [1., 1., 1.]],\n",
              "\n",
              "        [[1., 1., 1.],\n",
              "         [1., 1., 1.]]])"
            ]
          },
          "metadata": {},
          "execution_count": 51
        }
      ]
    },
    {
      "cell_type": "code",
      "source": [
        "#from_numpy() 将numpy数据转换成tensor数据\n",
        "a=np.array([2,3,3])\n",
        "torch.from_numpy(a)"
      ],
      "metadata": {
        "colab": {
          "base_uri": "https://localhost:8080/"
        },
        "id": "e9WgC68G0nsO",
        "outputId": "088703ff-4c27-4f2e-ef3f-98172d6297c6"
      },
      "execution_count": 52,
      "outputs": [
        {
          "output_type": "execute_result",
          "data": {
            "text/plain": [
              "tensor([2, 3, 3])"
            ]
          },
          "metadata": {},
          "execution_count": 52
        }
      ]
    },
    {
      "cell_type": "markdown",
      "source": [
        "> 注意：小写tensor只能接收数据类型,不能接收维度信息,大学Tensor()可以接收数据信息和维度信息"
      ],
      "metadata": {
        "id": "D9ld8ZRB1Y8Z"
      }
    },
    {
      "cell_type": "code",
      "source": [
        "torch.Tensor(2,3)"
      ],
      "metadata": {
        "colab": {
          "base_uri": "https://localhost:8080/"
        },
        "id": "YCeN6UhC1SMe",
        "outputId": "c9850925-d955-4c1d-b1f7-3d2bdbaf476e"
      },
      "execution_count": 53,
      "outputs": [
        {
          "output_type": "execute_result",
          "data": {
            "text/plain": [
              "tensor([[3.6793e-316, 8.3216e-317, 2.1220e-314],\n",
              "        [2.2941e+199,  1.2882e-57,  6.9879e+98]])"
            ]
          },
          "metadata": {},
          "execution_count": 53
        }
      ]
    },
    {
      "cell_type": "code",
      "source": [
        "torch.Tensor([2,3])"
      ],
      "metadata": {
        "colab": {
          "base_uri": "https://localhost:8080/"
        },
        "id": "NCS_js7j12_3",
        "outputId": "b9e677a9-a038-45c1-a98a-49f2de95a024"
      },
      "execution_count": 54,
      "outputs": [
        {
          "output_type": "execute_result",
          "data": {
            "text/plain": [
              "tensor([2., 3.])"
            ]
          },
          "metadata": {},
          "execution_count": 54
        }
      ]
    },
    {
      "cell_type": "code",
      "source": [
        "torch.tensor([2,3])"
      ],
      "metadata": {
        "colab": {
          "base_uri": "https://localhost:8080/"
        },
        "id": "5aunrgd615IO",
        "outputId": "2aab19c5-6498-45b5-9ea2-54c3daf5148e"
      },
      "execution_count": 55,
      "outputs": [
        {
          "output_type": "execute_result",
          "data": {
            "text/plain": [
              "tensor([2, 3])"
            ]
          },
          "metadata": {},
          "execution_count": 55
        }
      ]
    },
    {
      "cell_type": "code",
      "source": [
        "torch.tensor(2,3)"
      ],
      "metadata": {
        "colab": {
          "base_uri": "https://localhost:8080/",
          "height": 169
        },
        "id": "nLtOa4cO18cK",
        "outputId": "14a29e66-ea3f-41f4-a9fc-59cae9d62aa7"
      },
      "execution_count": 56,
      "outputs": [
        {
          "output_type": "error",
          "ename": "TypeError",
          "evalue": "ignored",
          "traceback": [
            "\u001b[0;31m---------------------------------------------------------------------------\u001b[0m",
            "\u001b[0;31mTypeError\u001b[0m                                 Traceback (most recent call last)",
            "\u001b[0;32m<ipython-input-56-9e8014b79e78>\u001b[0m in \u001b[0;36m<module>\u001b[0;34m\u001b[0m\n\u001b[0;32m----> 1\u001b[0;31m \u001b[0mtorch\u001b[0m\u001b[0;34m.\u001b[0m\u001b[0mtensor\u001b[0m\u001b[0;34m(\u001b[0m\u001b[0;36m2\u001b[0m\u001b[0;34m,\u001b[0m\u001b[0;36m3\u001b[0m\u001b[0;34m)\u001b[0m\u001b[0;34m\u001b[0m\u001b[0;34m\u001b[0m\u001b[0m\n\u001b[0m",
            "\u001b[0;31mTypeError\u001b[0m: tensor() takes 1 positional argument but 2 were given"
          ]
        }
      ]
    },
    {
      "cell_type": "markdown",
      "source": [
        "> arange() 生成等差数列\n",
        "> linspace() 等分数据\n",
        "> ones(),zeros(),eye()\n",
        ">full()"
      ],
      "metadata": {
        "id": "3BugOk68Bone"
      }
    },
    {
      "cell_type": "code",
      "source": [],
      "metadata": {
        "id": "BbTZizNIELg-"
      },
      "execution_count": null,
      "outputs": []
    },
    {
      "cell_type": "code",
      "source": [
        "# torch.arange()  //生成等差数列\n",
        "# torch.full()  //生成相同数值的数列"
      ],
      "metadata": {
        "id": "1Bp0-nao8jC9"
      },
      "execution_count": 71,
      "outputs": []
    },
    {
      "cell_type": "code",
      "source": [
        "torch.arange(1,10,1)  #1到10,差值为1\n"
      ],
      "metadata": {
        "colab": {
          "base_uri": "https://localhost:8080/"
        },
        "id": "Mr9rT3lC8irT",
        "outputId": "67088a6c-f1c9-4d9d-c08f-a8f02f102058"
      },
      "execution_count": 75,
      "outputs": [
        {
          "output_type": "execute_result",
          "data": {
            "text/plain": [
              "tensor([1, 2, 3, 4, 5, 6, 7, 8, 9])"
            ]
          },
          "metadata": {},
          "execution_count": 75
        }
      ]
    },
    {
      "cell_type": "code",
      "source": [
        "torch.arange(1,10,2)  #插值为2"
      ],
      "metadata": {
        "colab": {
          "base_uri": "https://localhost:8080/"
        },
        "id": "B5Jzyh509Giu",
        "outputId": "468e37aa-b932-48c7-c3b4-28ad414ff02e"
      },
      "execution_count": 76,
      "outputs": [
        {
          "output_type": "execute_result",
          "data": {
            "text/plain": [
              "tensor([1, 3, 5, 7, 9])"
            ]
          },
          "metadata": {},
          "execution_count": 76
        }
      ]
    },
    {
      "cell_type": "code",
      "source": [
        "torch.full((2,3),9)"
      ],
      "metadata": {
        "colab": {
          "base_uri": "https://localhost:8080/"
        },
        "id": "D5LI6e5n9Lys",
        "outputId": "7834ef7d-01b3-4de2-b9b0-1bee48fba8d9"
      },
      "execution_count": 77,
      "outputs": [
        {
          "output_type": "execute_result",
          "data": {
            "text/plain": [
              "tensor([[9, 9, 9],\n",
              "        [9, 9, 9]])"
            ]
          },
          "metadata": {},
          "execution_count": 77
        }
      ]
    },
    {
      "cell_type": "code",
      "source": [
        "torch.linspace(1,10,5)  #生成1，到10之间的5个间隔相等的数"
      ],
      "metadata": {
        "colab": {
          "base_uri": "https://localhost:8080/"
        },
        "id": "tLUQsVHsEV2R",
        "outputId": "b26669a6-9c82-41d3-f9ad-5088f8ccab9d"
      },
      "execution_count": 79,
      "outputs": [
        {
          "output_type": "execute_result",
          "data": {
            "text/plain": [
              "tensor([ 1.0000,  3.2500,  5.5000,  7.7500, 10.0000])"
            ]
          },
          "metadata": {},
          "execution_count": 79
        }
      ]
    },
    {
      "cell_type": "code",
      "source": [
        "torch.eye(3,3)  #生成单位矩阵"
      ],
      "metadata": {
        "colab": {
          "base_uri": "https://localhost:8080/"
        },
        "id": "5nVXKBaRErvD",
        "outputId": "301aec16-4ee7-4b1c-cd24-132643e7e0c9"
      },
      "execution_count": 80,
      "outputs": [
        {
          "output_type": "execute_result",
          "data": {
            "text/plain": [
              "tensor([[1., 0., 0.],\n",
              "        [0., 1., 0.],\n",
              "        [0., 0., 1.]])"
            ]
          },
          "metadata": {},
          "execution_count": 80
        }
      ]
    },
    {
      "cell_type": "markdown",
      "source": [
        "### 生成为初始化的数据"
      ],
      "metadata": {
        "id": "eepE2Adu2JPy"
      }
    },
    {
      "cell_type": "code",
      "source": [
        "# 创建为初始化的数据，\n",
        "torch.empty(2,3)"
      ],
      "metadata": {
        "colab": {
          "base_uri": "https://localhost:8080/"
        },
        "id": "GcIaPwmc2B4F",
        "outputId": "3f2ea3f8-53d3-48ed-8b48-79015f93938f"
      },
      "execution_count": 57,
      "outputs": [
        {
          "output_type": "execute_result",
          "data": {
            "text/plain": [
              "tensor([[3.6794e-316, 1.1858e-322, 2.1220e-314],\n",
              "        [4.7647e+233, 4.6100e+228, 1.6777e+243]])"
            ]
          },
          "metadata": {},
          "execution_count": 57
        }
      ]
    },
    {
      "cell_type": "code",
      "source": [
        "# tensor()函数的默认类型为FloatTensor\n",
        "torch.tensor([1.2,3]).type()"
      ],
      "metadata": {
        "colab": {
          "base_uri": "https://localhost:8080/",
          "height": 35
        },
        "id": "swkeo5it2FlK",
        "outputId": "38fc44b9-c9f8-4fb8-8ad9-a0851d8e64fe"
      },
      "execution_count": 58,
      "outputs": [
        {
          "output_type": "execute_result",
          "data": {
            "text/plain": [
              "'torch.DoubleTensor'"
            ],
            "application/vnd.google.colaboratory.intrinsic+json": {
              "type": "string"
            }
          },
          "metadata": {},
          "execution_count": 58
        }
      ]
    },
    {
      "cell_type": "code",
      "source": [
        "# 设置默认生成类型 set_default_tensor_type()\n",
        "torch.set_default_tensor_type(torch.DoubleTensor)\n",
        "torch.tensor([1.2,3]).type()"
      ],
      "metadata": {
        "colab": {
          "base_uri": "https://localhost:8080/",
          "height": 35
        },
        "id": "yYGmbSSp3AAT",
        "outputId": "af9a0ce8-20d1-4fac-e69e-7064625499ec"
      },
      "execution_count": 59,
      "outputs": [
        {
          "output_type": "execute_result",
          "data": {
            "text/plain": [
              "'torch.DoubleTensor'"
            ],
            "application/vnd.google.colaboratory.intrinsic+json": {
              "type": "string"
            }
          },
          "metadata": {},
          "execution_count": 59
        }
      ]
    },
    {
      "cell_type": "markdown",
      "source": [
        "### 随机初始化"
      ],
      "metadata": {
        "id": "qNKUKhWB3nlk"
      }
    },
    {
      "cell_type": "code",
      "source": [
        "# torch.rand()  //采用的0~1的均匀随机抽样\n",
        "\n",
        "torch.rand(3,3) #生成[0,1)之间的3x3矩阵\n"
      ],
      "metadata": {
        "colab": {
          "base_uri": "https://localhost:8080/"
        },
        "id": "URhjoTw03VqH",
        "outputId": "d8003636-82ca-4956-9732-4adabb021a74"
      },
      "execution_count": 60,
      "outputs": [
        {
          "output_type": "execute_result",
          "data": {
            "text/plain": [
              "tensor([[0.1528, 0.8729, 0.2363],\n",
              "        [0.1066, 0.6708, 0.9374],\n",
              "        [0.3908, 0.0228, 0.9010]])"
            ]
          },
          "metadata": {},
          "execution_count": 60
        }
      ]
    },
    {
      "cell_type": "code",
      "source": [
        "# torch.rand_like(a)  //生成和a的shape相同的0~1随机样本\n",
        "a=torch.rand(3,3)\n",
        "b=torch.rand_like(a)\n",
        "b"
      ],
      "metadata": {
        "colab": {
          "base_uri": "https://localhost:8080/"
        },
        "id": "aJMjm0fF37vN",
        "outputId": "9e658d99-bc9c-4cb8-c7c6-1273c5f5354e"
      },
      "execution_count": 62,
      "outputs": [
        {
          "output_type": "execute_result",
          "data": {
            "text/plain": [
              "tensor([[0.4969, 0.6390, 0.2799],\n",
              "        [0.7217, 0.8040, 0.2005],\n",
              "        [0.5400, 0.0307, 0.9585]])"
            ]
          },
          "metadata": {},
          "execution_count": 62
        }
      ]
    },
    {
      "cell_type": "code",
      "source": [
        "# torch.randint(min,max,[shape])  #[min,max)\n",
        "torch.randint(1,10,[2,3])"
      ],
      "metadata": {
        "colab": {
          "base_uri": "https://localhost:8080/"
        },
        "id": "ufbBEu2O4UyI",
        "outputId": "8d769c8e-4a42-4d54-99b1-7446e655a89e"
      },
      "execution_count": 81,
      "outputs": [
        {
          "output_type": "execute_result",
          "data": {
            "text/plain": [
              "tensor([[6, 5, 4],\n",
              "        [7, 8, 5]])"
            ]
          },
          "metadata": {},
          "execution_count": 81
        }
      ]
    },
    {
      "cell_type": "code",
      "source": [
        "torch.randperm(11) #生成0到10的数，无序"
      ],
      "metadata": {
        "colab": {
          "base_uri": "https://localhost:8080/"
        },
        "id": "IwGS6fftE7e5",
        "outputId": "02ce6aac-16f4-4110-f13f-cc69778c54c8"
      },
      "execution_count": 83,
      "outputs": [
        {
          "output_type": "execute_result",
          "data": {
            "text/plain": [
              "tensor([ 4,  5,  3,  9,  8, 10,  1,  6,  7,  0,  2])"
            ]
          },
          "metadata": {},
          "execution_count": 83
        }
      ]
    },
    {
      "cell_type": "markdown",
      "source": [
        "### 生成正态分布的数据\n",
        "\n",
        "> torch.randn() //正太分布（0，1） 均值为0，方差为1"
      ],
      "metadata": {
        "id": "I0pC7bdb5vQB"
      }
    },
    {
      "cell_type": "code",
      "source": [
        "torch.randn(2,2)\n"
      ],
      "metadata": {
        "colab": {
          "base_uri": "https://localhost:8080/"
        },
        "id": "UUrmgZRp5pkP",
        "outputId": "6daa8c1e-c176-4892-9be2-d94a22ad6e0f"
      },
      "execution_count": 64,
      "outputs": [
        {
          "output_type": "execute_result",
          "data": {
            "text/plain": [
              "tensor([[-0.0202,  0.0177],\n",
              "        [-0.0702,  1.2394]])"
            ]
          },
          "metadata": {},
          "execution_count": 64
        }
      ]
    },
    {
      "cell_type": "markdown",
      "source": [
        "### 生成随机正态分布"
      ],
      "metadata": {
        "id": "sA_gH6te6WN0"
      }
    },
    {
      "cell_type": "code",
      "source": [
        "# torch.normal(mean=x,std=xx)  //mean: 均值， std为方差\n"
      ],
      "metadata": {
        "id": "AdHnSCc36OJi"
      },
      "execution_count": 65,
      "outputs": []
    },
    {
      "cell_type": "code",
      "source": [
        "torch.full((2,3),2)"
      ],
      "metadata": {
        "colab": {
          "base_uri": "https://localhost:8080/"
        },
        "id": "VZAhOgxz6803",
        "outputId": "77ba3247-6645-4f69-8aaa-e0366377df4c"
      },
      "execution_count": 66,
      "outputs": [
        {
          "output_type": "execute_result",
          "data": {
            "text/plain": [
              "tensor([[2, 2, 2],\n",
              "        [2, 2, 2]])"
            ]
          },
          "metadata": {},
          "execution_count": 66
        }
      ]
    },
    {
      "cell_type": "code",
      "source": [
        "# 输出1x10的一维度tensor,均值是10x[0] ,方差是[1,0.9,0.8,...]\n",
        "torch.normal(mean=torch.full([10],0.),std=torch.arange(1,0,-0.1))"
      ],
      "metadata": {
        "colab": {
          "base_uri": "https://localhost:8080/"
        },
        "id": "csm6Vp8P7MOG",
        "outputId": "cfe15df2-2883-4664-f1d0-f9068232512c"
      },
      "execution_count": 70,
      "outputs": [
        {
          "output_type": "execute_result",
          "data": {
            "text/plain": [
              "tensor([ 1.2162,  0.8851, -0.7124,  0.1778, -0.6152, -0.8955,  0.0363, -0.1423,\n",
              "         0.0973, -0.0658])"
            ]
          },
          "metadata": {},
          "execution_count": 70
        }
      ]
    },
    {
      "cell_type": "markdown",
      "source": [
        "### 索引与切片"
      ],
      "metadata": {
        "id": "Vtc7OwrgFR-k"
      }
    },
    {
      "cell_type": "code",
      "source": [
        "# 生成28x28的三通道4张图片 \n",
        "\n",
        "a=torch.rand(4,3,28,28)\n",
        "\n",
        "print(\"a[0].shape: \",a[0].shape)\n",
        "print(\"a[0,0].shpae：\",a[0,0].shape)\n",
        "print(\"a[0,0,0].shape: \",a[0,0,0].shape)\n"
      ],
      "metadata": {
        "colab": {
          "base_uri": "https://localhost:8080/"
        },
        "id": "OTDA9mYuFWLn",
        "outputId": "41ce566a-82d0-4180-c530-5da89bf3383b"
      },
      "execution_count": 89,
      "outputs": [
        {
          "output_type": "stream",
          "name": "stdout",
          "text": [
            "a[0].shape:  torch.Size([3, 28, 28])\n",
            "a[0,0].shpae： torch.Size([28, 28])\n",
            "a[0,0,0].shape:  torch.Size([28])\n"
          ]
        }
      ]
    },
    {
      "cell_type": "markdown",
      "source": [
        "* a.shape -> torch.size(4,3,28,28)\n",
        "* a[:2].shape   //表示前两张照片\n",
        "* a[:2,:1,:,:]   //表示前两张图片的第0个通道的所有数据\n",
        "* a[:2,1:,:,:]   //表示前两张图片中从第一通道到最末尾通道的所有数据\n",
        "* a[:2,-1:,:,:]  //表示前两张图片中最后一个通道的所有数据\n",
        "#### [0:28:2] //表示从[0,28)的每隔2个数采样一次\n",
        "\n"
      ],
      "metadata": {
        "id": "Qd7FD7nsG8TP"
      }
    },
    {
      "cell_type": "code",
      "source": [
        "a.shape"
      ],
      "metadata": {
        "colab": {
          "base_uri": "https://localhost:8080/"
        },
        "id": "YXFo4JPlI32t",
        "outputId": "11ff2340-8151-4c52-aa49-9784db9a0129"
      },
      "execution_count": 92,
      "outputs": [
        {
          "output_type": "execute_result",
          "data": {
            "text/plain": [
              "torch.Size([4, 3, 28, 28])"
            ]
          },
          "metadata": {},
          "execution_count": 92
        }
      ]
    },
    {
      "cell_type": "code",
      "source": [
        "a[:,:,0:28:2,0:28:2].shape"
      ],
      "metadata": {
        "colab": {
          "base_uri": "https://localhost:8080/"
        },
        "id": "gO_L9W1CFj57",
        "outputId": "a4cd697c-3e7c-43b3-9bec-135205a8bf6b"
      },
      "execution_count": 91,
      "outputs": [
        {
          "output_type": "execute_result",
          "data": {
            "text/plain": [
              "torch.Size([4, 3, 14, 14])"
            ]
          },
          "metadata": {},
          "execution_count": 91
        }
      ]
    },
    {
      "cell_type": "markdown",
      "source": [
        "> torch.index_select()\n",
        "\n",
        "    torch.index_select(input,dim,index,out=None)->Tensor\n",
        "\n",
        "沿着指定维度对输入进行切片，取index中指定的相应项（index为一个LongeTensor),然后返回一个新的张量，返回的张量与原始张量 Tensor 在指定的轴上有相同的维度\n",
        "\n",
        "注意： 返回的张量不与原始张量共享内存空间\n",
        "\n",
        "参数：\n",
        "* input(Tensor) - 输入张量\n",
        "* dim(int) - 索引的轴\n",
        "* index(LongTensor) - 包含索引下标的一维张量\n",
        "* out - 目标张量\n"
      ],
      "metadata": {
        "id": "yr1u3FUBJVNP"
      }
    },
    {
      "cell_type": "code",
      "source": [
        "x=torch.randn(3,4)\n",
        "print(\"x=: \")\n",
        "print(x)\n",
        "indices=torch.LongTensor([0,2])\n",
        "print(\"index_select(x,0,[0,2]):\")\n",
        "torch.index_select(x,0,indices)\n",
        "\n",
        "print(\"index_select(x,1,[0,2]):\")\n",
        "torch.index_select(x,1,indices)"
      ],
      "metadata": {
        "colab": {
          "base_uri": "https://localhost:8080/"
        },
        "id": "c5oFn4PwIq9z",
        "outputId": "5bfd105f-68df-4b66-f967-6b0e4c23ae53"
      },
      "execution_count": 99,
      "outputs": [
        {
          "output_type": "stream",
          "name": "stdout",
          "text": [
            "x=: \n",
            "tensor([[-1.4129,  1.3549, -0.5821,  0.7717],\n",
            "        [-1.8078, -0.8244,  1.2352, -1.1828],\n",
            "        [ 0.3480, -1.2380, -0.6145,  0.8827]])\n",
            "index_select(x,0,[0,2]):\n",
            "index_select(x,1,[0,2]):\n"
          ]
        },
        {
          "output_type": "execute_result",
          "data": {
            "text/plain": [
              "tensor([[-1.4129, -0.5821],\n",
              "        [-1.8078,  1.2352],\n",
              "        [ 0.3480, -0.6145]])"
            ]
          },
          "metadata": {},
          "execution_count": 99
        }
      ]
    },
    {
      "cell_type": "markdown",
      "source": [
        "### 维度变换\n",
        "\n",
        "* view()\n",
        "* reshape()\n",
        "* suqeeze()   降低维度\n",
        "* unsqueeze()  增加维度，不增加数据\n",
        "* expand()\n",
        "* repeat()\n"
      ],
      "metadata": {
        "id": "zonRs8RnNO5t"
      }
    },
    {
      "cell_type": "code",
      "source": [
        "# view()和reshape()是通用的，让reshape()候来的版本添加的\n",
        "\n",
        "a=torch.rand(4,1,28,28)\n",
        "print(\"a.shape:\")\n",
        "print(a.shape)\n",
        "print(\"a.view: 操作\")\n",
        "print(a.view(4,28*28).shape)\n",
        "print(a.view(4*28,28).shape)"
      ],
      "metadata": {
        "colab": {
          "base_uri": "https://localhost:8080/"
        },
        "id": "dtnXZinsLBcY",
        "outputId": "36e7be31-5e5d-4848-fa4b-9c4592988ae6"
      },
      "execution_count": 102,
      "outputs": [
        {
          "output_type": "stream",
          "name": "stdout",
          "text": [
            "a.shape:\n",
            "torch.Size([4, 1, 28, 28])\n",
            "a.view: 操作\n",
            "torch.Size([4, 784])\n",
            "torch.Size([112, 28])\n"
          ]
        }
      ]
    },
    {
      "cell_type": "code",
      "source": [
        "# unsqueeze只增加数据的维度不改变数值\n",
        "\n",
        "a=torch.tensor([1.2,2.3])\n",
        "print(a.shape)\n",
        "print(a.unsqueeze(-1))  #在最后一个位置增加一个维度\n",
        "print(a.unsqueeze(-1).shape)"
      ],
      "metadata": {
        "colab": {
          "base_uri": "https://localhost:8080/"
        },
        "id": "aC1ZX6MSNfbq",
        "outputId": "f5f1ad52-2bb6-4a0d-d9a7-c2916bff185e"
      },
      "execution_count": 106,
      "outputs": [
        {
          "output_type": "stream",
          "name": "stdout",
          "text": [
            "torch.Size([2])\n",
            "tensor([[1.2000],\n",
            "        [2.3000]])\n",
            "torch.Size([2, 1])\n"
          ]
        }
      ]
    },
    {
      "cell_type": "code",
      "source": [
        "b=torch.rand(32)\n",
        "print(\"b.shape: \",b.shape)\n",
        "print(\"b.unsqueeze(0): \",b.unsqueeze(0).shape)\n",
        "print(\"b.unsqueeze(1).unsqueeze(2).unsqueeze(0):\",b.unsqueeze(1).unsqueeze(2).unsqueeze(0).shape)\n",
        "# 上行中unsqueeze的顺序不同结果不一样\n"
      ],
      "metadata": {
        "colab": {
          "base_uri": "https://localhost:8080/"
        },
        "id": "ukYPMTzuPal4",
        "outputId": "5b5bec1f-4805-4b1e-c9af-079b476e7c2a"
      },
      "execution_count": 112,
      "outputs": [
        {
          "output_type": "stream",
          "name": "stdout",
          "text": [
            "b.shape:  torch.Size([32])\n",
            "b.unsqueeze(0):  torch.Size([1, 32])\n",
            "b.unsqueeze(1).unsqueeze(2).unsqueeze(0): torch.Size([1, 32, 1, 1])\n"
          ]
        }
      ]
    },
    {
      "cell_type": "code",
      "source": [
        "# squeeze() 删除所有的维度中数值为1的维度\n",
        "b=torch.rand(1,32,1,1)\n",
        "print(\"b.shape:\",b.shape)\n",
        "print(\"b.squeeze().shape: \",b.squeeze().shape)  \n",
        "print(\"b.squeeze(0).shape\",b.squeeze(0).shape)\n",
        "print(\"b.squeeze(1).shape\",b.squeeze(1).shape) #因为dim=1维度是32所以不做操作\n",
        "print(\"b.squeeze(-1).shape\",b.squeeze(-1).shape)"
      ],
      "metadata": {
        "colab": {
          "base_uri": "https://localhost:8080/"
        },
        "id": "tnnNN711P8X6",
        "outputId": "f7304483-2607-4971-b7e2-ba88c5df41c0"
      },
      "execution_count": 118,
      "outputs": [
        {
          "output_type": "stream",
          "name": "stdout",
          "text": [
            "b.shape: torch.Size([1, 32, 1, 1])\n",
            "b.squeeze().shape:  torch.Size([32])\n",
            "b.squeeze(0).shape torch.Size([32, 1, 1])\n",
            "b.squeeze(1).shape torch.Size([1, 32, 1, 1])\n",
            "b.squeeze(-1).shape torch.Size([1, 32, 1])\n"
          ]
        }
      ]
    },
    {
      "cell_type": "markdown",
      "source": [
        "squeeze()   //删除dim=1的所有维度b=torch.randn(1,32,1,1)\n",
        "\n",
        "b.squeeze().shape -> torch.size([32])\n",
        "\n",
        "b.squeeze(0).shape  ->torch.size([32,1,1])\n",
        "\n",
        "b.squeeze(-1).shape  ->torch.size([1,32,1])"
      ],
      "metadata": {
        "id": "WuZyoPSPRVp6"
      }
    },
    {
      "cell_type": "markdown",
      "source": [
        "### 维度扩展操作\n",
        "\n",
        "    # expand 不会主动复制数据，节约内存\n",
        "    # repead 会复制数据\n",
        "\n",
        "* expand操作要求，只能在相同的维度上进行扩展，并且只能从1到多\n",
        "\n",
        "\n",
        "    [1,32,1,1] -> [4,32,14,14] "
      ],
      "metadata": {
        "id": "c2K4rZBqScyt"
      }
    },
    {
      "cell_type": "code",
      "source": [
        "# expand 不会主动复制数据，节约内存，在相同的维度上进行扩展\n",
        "\n",
        "\n",
        "a=torch.rand(4,32,14,14)\n",
        "\n",
        "b=torch.rand(1,32,1,1)\n",
        "print(b.shape)\n",
        "\n",
        "b.expand(4,32,14,14).shape\n",
        "\n",
        "b.expand(-1,32,-1,-1).shape  # -1表示保存相同的维度不变\n",
        "\n",
        "\n"
      ],
      "metadata": {
        "colab": {
          "base_uri": "https://localhost:8080/"
        },
        "id": "iba1AW1YRWfr",
        "outputId": "3d0be364-b714-4884-c12a-763a24b1bcc6"
      },
      "execution_count": 124,
      "outputs": [
        {
          "output_type": "stream",
          "name": "stdout",
          "text": [
            "torch.Size([1, 32, 1, 1])\n"
          ]
        },
        {
          "output_type": "execute_result",
          "data": {
            "text/plain": [
              "torch.Size([1, 32, 1, 1])"
            ]
          },
          "metadata": {},
          "execution_count": 124
        }
      ]
    },
    {
      "cell_type": "code",
      "source": [
        "a=torch.rand(1,2)\n",
        "print(a)\n",
        "\n",
        "print(\"a.expand(4,2):\")\n",
        "print(a.expand(4,2))"
      ],
      "metadata": {
        "colab": {
          "base_uri": "https://localhost:8080/"
        },
        "id": "493xxYEqTZBF",
        "outputId": "a75cfd35-35fc-4839-fb63-f3abc8d2b692"
      },
      "execution_count": 133,
      "outputs": [
        {
          "output_type": "stream",
          "name": "stdout",
          "text": [
            "tensor([[0.8133, 0.3522]])\n",
            "a.expand(4,4):\n",
            "tensor([[0.8133, 0.3522],\n",
            "        [0.8133, 0.3522],\n",
            "        [0.8133, 0.3522],\n",
            "        [0.8133, 0.3522]])\n"
          ]
        }
      ]
    },
    {
      "cell_type": "code",
      "source": [
        "# repeat(): 中的参数表示在每个维度上的重复次数\n",
        "\n",
        "b=torch.rand(1,32,1,1)\n",
        "\n",
        "print(\"b shape:\",b.shape)\n",
        "\n",
        "print(\"b.repeat(4,32,1,1): \",b.repeat(1,32,1,1).shape)\n",
        "print(\"b.repeat(4,1,1,1): \",b.repeat(4,1,1,1).shape)"
      ],
      "metadata": {
        "colab": {
          "base_uri": "https://localhost:8080/"
        },
        "id": "SlT7_JZxT8vD",
        "outputId": "615f55c7-366c-49aa-87bc-0d4ec9a5abb9"
      },
      "execution_count": 139,
      "outputs": [
        {
          "output_type": "stream",
          "name": "stdout",
          "text": [
            "b shape: torch.Size([1, 32, 1, 1])\n",
            "b.repeat(4,32,1,1):  torch.Size([1, 1024, 1, 1])\n",
            "b.repeat(4,1,1,1):  torch.Size([4, 32, 1, 1])\n"
          ]
        }
      ]
    },
    {
      "cell_type": "code",
      "source": [
        "a=torch.rand(2,2)\n",
        "print(a)\n",
        "\n",
        "print(a.repeat(1,2))\n",
        "print(a.repeat(2,1))"
      ],
      "metadata": {
        "colab": {
          "base_uri": "https://localhost:8080/"
        },
        "id": "tS4e8K1FW8Yj",
        "outputId": "13705609-32e9-4d5c-c3bc-5a007561b6ad"
      },
      "execution_count": 142,
      "outputs": [
        {
          "output_type": "stream",
          "name": "stdout",
          "text": [
            "tensor([[0.4803, 0.2012],\n",
            "        [0.4196, 0.7614]])\n",
            "tensor([[0.4803, 0.2012, 0.4803, 0.2012],\n",
            "        [0.4196, 0.7614, 0.4196, 0.7614]])\n",
            "tensor([[0.4803, 0.2012],\n",
            "        [0.4196, 0.7614],\n",
            "        [0.4803, 0.2012],\n",
            "        [0.4196, 0.7614]])\n"
          ]
        }
      ]
    },
    {
      "cell_type": "markdown",
      "source": [
        "### 位置转换 T， transpose（）\n",
        "\n",
        "transpose() 进行维度转换\n",
        "\n",
        "transpose()之后数据是不连续的，所以要用.contiguous() 函数让它连续\n",
        "\n",
        "transpose(1,2) , //表示将第一维和第2维进行交换"
      ],
      "metadata": {
        "id": "UfXLt4dFX2Zo"
      }
    },
    {
      "cell_type": "code",
      "source": [
        "a=torch.rand(1,2,5,5)\n",
        "print(a.shape)\n",
        "\n",
        "print(a.transpose(1,2).shape) #将第一维和第二维进行交换"
      ],
      "metadata": {
        "colab": {
          "base_uri": "https://localhost:8080/"
        },
        "id": "aPhny_knXmeN",
        "outputId": "0cbe0e56-3372-4b76-d444-941ffbbe182c"
      },
      "execution_count": 145,
      "outputs": [
        {
          "output_type": "stream",
          "name": "stdout",
          "text": [
            "torch.Size([1, 2, 5, 5])\n",
            "torch.Size([1, 5, 2, 5])\n"
          ]
        }
      ]
    },
    {
      "cell_type": "code",
      "source": [
        "a=torch.rand(2,3)\n",
        "print(\"a:\")\n",
        "print(a)\n",
        "\n",
        "print(\"a.transpose(0,1):\")\n",
        "print(a.transpose(0,1))"
      ],
      "metadata": {
        "colab": {
          "base_uri": "https://localhost:8080/"
        },
        "id": "6epsKcjRYRaZ",
        "outputId": "b558c445-8e50-47bc-fcd0-590808fc07bb"
      },
      "execution_count": 146,
      "outputs": [
        {
          "output_type": "stream",
          "name": "stdout",
          "text": [
            "a:\n",
            "tensor([[0.5398, 0.1968, 0.9092],\n",
            "        [0.0160, 0.4829, 0.5665]])\n",
            "a.transpose(0,1):\n",
            "tensor([[0.5398, 0.0160],\n",
            "        [0.1968, 0.4829],\n",
            "        [0.9092, 0.5665]])\n"
          ]
        }
      ]
    },
    {
      "cell_type": "markdown",
      "source": [
        "### 熵(entropy)，交叉熵(cross entropy)，和KL散度（Kullback-Leibler divergence,relative entropy)"
      ],
      "metadata": {
        "id": "3pQhKUMDvaKJ"
      }
    },
    {
      "cell_type": "code",
      "source": [
        "#计算a的熵 H(a)=-sum（Pi*ln(Pi))\n",
        "a=torch.Tensor([0.2,0.2,0.2,0.2,0.2])\n",
        "entropy=-(torch.log2(a)).sum()\n",
        "print(entropy)"
      ],
      "metadata": {
        "colab": {
          "base_uri": "https://localhost:8080/"
        },
        "id": "RmmJitZXYz_y",
        "outputId": "afef4163-8d00-41c6-c7c0-e46f4b76ae34"
      },
      "execution_count": 152,
      "outputs": [
        {
          "output_type": "stream",
          "name": "stdout",
          "text": [
            "tensor(11.6096)\n"
          ]
        }
      ]
    },
    {
      "cell_type": "code",
      "source": [
        "#计算a,b的KL散度（KL divergence) \n",
        "# KL(p,q) ,用来衡量概率分布p,和q的区别有多大，当KL(p,q)=0时表示p=q\n",
        "# KL(p,q)=H(p,q)-H(p) 等于交叉熵pq-熵p\n",
        "# KL(p,q)=sum(pi*ln(pi/qi))\n"
      ],
      "metadata": {
        "colab": {
          "base_uri": "https://localhost:8080/"
        },
        "id": "EpfqaoZ4phXH",
        "outputId": "172b0c68-9a5d-4982-dcf9-3441e7c19e65"
      },
      "execution_count": 151,
      "outputs": [
        {
          "output_type": "execute_result",
          "data": {
            "text/plain": [
              "tensor([-2.3219, -2.3219, -2.3219, -2.3219])"
            ]
          },
          "metadata": {},
          "execution_count": 151
        }
      ]
    },
    {
      "cell_type": "code",
      "source": [
        "p=torch.Tensor([0.1,0.1,0.1,0.7])\n",
        "q=torch.Tensor([0.1,0.1,0.1,0.7])\n",
        "\n",
        "#计算KL(p,q)散度的值，因为p=q，所以值为0\n",
        "\n",
        "KL=(p*torch.log2(p/q)).sum()\n",
        "print(KL)\n"
      ],
      "metadata": {
        "colab": {
          "base_uri": "https://localhost:8080/"
        },
        "id": "oqDh6MqEpsWm",
        "outputId": "d59cb8ad-9fcb-4d38-c160-4337023415f7"
      },
      "execution_count": 153,
      "outputs": [
        {
          "output_type": "stream",
          "name": "stdout",
          "text": [
            "tensor(0.)\n"
          ]
        }
      ]
    },
    {
      "cell_type": "code",
      "source": [
        "# 交叉熵H(p,q)=-sum(pi*ln(qi))\n",
        "# 在KL 散度中KL(p,q)=H(p,q)-H(p) 如果H(p)是固定的(验证label是固定的)则\n",
        "# 计算KL散度=0时，就等价于起H(p,q)交叉熵的最小值\n"
      ],
      "metadata": {
        "id": "cSlMM104tQDo"
      },
      "execution_count": null,
      "outputs": []
    }
  ]
}